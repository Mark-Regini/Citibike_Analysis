{
 "cells": [
  {
   "cell_type": "markdown",
   "id": "a51f8fb2",
   "metadata": {},
   "source": [
    "# Table of Contents\n",
    "### - Data cleaning and manipulation\n",
    "### - K-mean cluster determinationa and elbow chart\n",
    "### - Cluster definition and visualization\n",
    "### - Descriptive cluster analysis and insight"
   ]
  },
  {
   "cell_type": "markdown",
   "id": "cba8cd83",
   "metadata": {},
   "source": [
    "# Notebook Set-Up"
   ]
  },
  {
   "cell_type": "code",
   "execution_count": null,
   "id": "01ed3964",
   "metadata": {},
   "outputs": [],
   "source": [
    "# Import relevant libraries\n",
    "import pandas as pd\n",
    "import numpy as np\n",
    "import seaborn as sns\n",
    "import matplotlib\n",
    "import matplotlib.pyplot as plt\n",
    "import os\n",
    "import sklearn\n",
    "from sklearn.cluster import KMeans\n",
    "import pylab as pl\n",
    "from sklearn.preprocessing import StandardScaler"
   ]
  },
  {
   "cell_type": "code",
   "execution_count": null,
   "id": "771bf1dc",
   "metadata": {},
   "outputs": [],
   "source": [
    "# Define path and import dataset\n",
    "path = r'C:\\Users\\mmreg\\OneDrive\\Desktop\\Data Analytics Course Work\\Data Immersion\\Tasks\\08-2022 Exploratory Analytics Project\\02 Data\\Prepared'"
   ]
  },
  {
   "cell_type": "code",
   "execution_count": null,
   "id": "8abeb4c5",
   "metadata": {},
   "outputs": [],
   "source": [
    "df = pd.read_csv(os.path.join(path, 'citibike_clean.csv'), index_col = False)\n",
    "df.head()"
   ]
  },
  {
   "cell_type": "code",
   "execution_count": null,
   "id": "463f1f71",
   "metadata": {},
   "outputs": [],
   "source": [
    "df = df.drop(columns = 'Unnamed: 0')\n",
    "# Ensure removal of column\n",
    "df.head()"
   ]
  },
  {
   "cell_type": "code",
   "execution_count": null,
   "id": "8f05e90a",
   "metadata": {},
   "outputs": [],
   "source": [
    "# Define figure size throughout notebook\n",
    "sns.set(rc = {'figure.figsize':(20,12)})"
   ]
  },
  {
   "cell_type": "markdown",
   "id": "6ee5e638",
   "metadata": {},
   "source": [
    "# Question 2\n",
    "## Import your data and conduct any necessary cleaning, manipulations, and reprocessing (such as renaming)."
   ]
  },
  {
   "cell_type": "markdown",
   "id": "0df51d89",
   "metadata": {},
   "source": [
    "### - Data has been cleaned in previous tasks"
   ]
  },
  {
   "cell_type": "markdown",
   "id": "f6471a23",
   "metadata": {},
   "source": [
    "### - Columns have concise names for efficiency and clarity"
   ]
  },
  {
   "cell_type": "code",
   "execution_count": null,
   "id": "872299db",
   "metadata": {},
   "outputs": [],
   "source": [
    "# Remove all columns with categorical variables\n",
    "df_2 = df[['start_hour', 'start_station_latitude', 'start_station_longitude', 'end_station_latitude', 'end_station_longitude', 'trip_duration', 'age']]\n",
    "df_2.head()"
   ]
  },
  {
   "cell_type": "markdown",
   "id": "97c6b77c",
   "metadata": {},
   "source": [
    "# Question 3\n",
    "## Use the elbow technique as shown in the Jupyter notebook for this Exercise."
   ]
  },
  {
   "cell_type": "code",
   "execution_count": null,
   "id": "b7fd91ab",
   "metadata": {},
   "outputs": [],
   "source": [
    "# Define range of potential cluster numbers and k-mean clusters\n",
    "num_cl = range(1, 10)\n",
    "kmeans = [KMeans(n_clusters = i) for i in num_cl]"
   ]
  },
  {
   "cell_type": "code",
   "execution_count": null,
   "id": "999a819f",
   "metadata": {},
   "outputs": [],
   "source": [
    "# Find the scores of all clusters\n",
    "score = [kmeans[i].fit(df_2).score(df_2) for i in range(len(kmeans))]"
   ]
  },
  {
   "cell_type": "code",
   "execution_count": null,
   "id": "ba5eac11",
   "metadata": {},
   "outputs": [],
   "source": [
    "score"
   ]
  },
  {
   "cell_type": "code",
   "execution_count": null,
   "id": "91a3061d",
   "metadata": {},
   "outputs": [],
   "source": [
    "# Plot the elbow curve\n",
    "pl.plot(num_cl,score)\n",
    "pl.xlabel('Number of Clusters')\n",
    "pl.ylabel('Score')\n",
    "pl.title('Elbow Curve')\n",
    "pl.show()"
   ]
  },
  {
   "cell_type": "markdown",
   "id": "525860b9",
   "metadata": {},
   "source": [
    "# Question 4\n",
    "## Make an informed decision about the number of clusters you’ll use in your k-means algorithm based on the chart.\n",
    "### For this analysis, and going off of the elbow curve created here, I have decided that the optimal clusters will be three. While the curve does not have a solid and defined bend in it, the last number of clusters with a discernable bend is 3. This leads me to believe that this is the optimal cluster count for this analysis."
   ]
  },
  {
   "cell_type": "markdown",
   "id": "4fa69bda",
   "metadata": {},
   "source": [
    "# Question 5\n",
    "## Run the k-means algorithm."
   ]
  },
  {
   "cell_type": "code",
   "execution_count": null,
   "id": "e1a769a8",
   "metadata": {},
   "outputs": [],
   "source": [
    "# Create the k-means object\n",
    "kmeans = KMeans(n_clusters = 3)\n",
    "# I tried using n_jobs, but received a \"TypeError: __init__() got an unexpected keyword argument 'n_jobs'. I omitted as per StackOverflow suggestion."
   ]
  },
  {
   "cell_type": "code",
   "execution_count": null,
   "id": "b44b3595",
   "metadata": {},
   "outputs": [],
   "source": [
    "# Fit k-means object to the dataset\n",
    "kmeans.fit(df_2)"
   ]
  },
  {
   "cell_type": "markdown",
   "id": "4c4a4350",
   "metadata": {},
   "source": [
    "# Question 6\n",
    "## Attach a new column to your dataframe with the resulting clusters as shown in the Exercise. This will allow you to create a visualization using your clusters."
   ]
  },
  {
   "cell_type": "code",
   "execution_count": null,
   "id": "fec91bb1",
   "metadata": {},
   "outputs": [],
   "source": [
    "# Create and attach column to dataset\n",
    "df_2['clusters'] = kmeans.fit_predict(df_2)"
   ]
  },
  {
   "cell_type": "code",
   "execution_count": null,
   "id": "c56bf613",
   "metadata": {},
   "outputs": [],
   "source": [
    "df_2.head()"
   ]
  },
  {
   "cell_type": "code",
   "execution_count": null,
   "id": "08daa73e",
   "metadata": {},
   "outputs": [],
   "source": [
    "df_2['clusters'].value_counts()"
   ]
  },
  {
   "cell_type": "markdown",
   "id": "d1c627d4",
   "metadata": {},
   "source": [
    "# Question 7\n",
    "## Create a few different visualizations (e.g., scatterplots) using your clustered data. Try plotting different variables against each other to see the results in terms of the clusters."
   ]
  },
  {
   "cell_type": "code",
   "execution_count": null,
   "id": "66d2b850",
   "metadata": {},
   "outputs": [],
   "source": [
    "# Plot age and trip_duration with cluster information\n",
    "print('Fig. 1')\n",
    "plt.figure(figsize=(20, 12))\n",
    "ax = sns.scatterplot(x=df_2['age'], y=df['trip_duration'], hue = kmeans.labels_, s=100) \n",
    "\n",
    "ax.grid(False)\n",
    "plt.xlabel('Age (Years)')\n",
    "plt.ylabel('Trip Length (Sec)')\n",
    "plt.show()"
   ]
  },
  {
   "cell_type": "code",
   "execution_count": null,
   "id": "ab2d6994",
   "metadata": {},
   "outputs": [],
   "source": [
    "# Plot trip_duration and start_hour with cluster information\n",
    "print('Fig. 2')\n",
    "plt.figure(figsize=(20, 12))\n",
    "ax = sns.scatterplot(x=df_2['start_hour'], y=df['trip_duration'], hue = kmeans.labels_, s=100) \n",
    "\n",
    "ax.grid(False)\n",
    "plt.xlabel('Trip Start Time')\n",
    "plt.ylabel('Trip Length (Sec)')\n",
    "plt.show()"
   ]
  },
  {
   "cell_type": "code",
   "execution_count": null,
   "id": "7054c0b0",
   "metadata": {},
   "outputs": [],
   "source": [
    "# Plot age and start_hour with cluster information\n",
    "print('Fig. 3')\n",
    "plt.figure(figsize=(20, 12))\n",
    "ax = sns.scatterplot(x=df_2['age'], y=df['start_hour'], hue = kmeans.labels_, s=100) \n",
    "\n",
    "ax.grid(False)\n",
    "plt.xlabel('Age')\n",
    "plt.ylabel('Trip Start Time')\n",
    "plt.show()"
   ]
  },
  {
   "cell_type": "markdown",
   "id": "b6e349d6",
   "metadata": {},
   "source": [
    "# Question 8\n",
    "## Discuss how and why the clusters make sense. If they don’t make sense, however, this is also useful insight, as it means you’ll need to explore the data further."
   ]
  },
  {
   "cell_type": "markdown",
   "id": "9c97902c",
   "metadata": {},
   "source": [
    "### From what I can gather from the clusters, the clusters represent the trip lengths within the data and break it down into short, medium, and long length trips (as seen in Fig. 1). Black would be the long trips, purple the medium trips, and pink the short trips. From this we can deduce that those riders who are of the college or young working professional age are more likely to take longer trips, while younger customers and senior citizens are more likely to use it on shorter trips. Using cluster insight and applying it to Fig. 2, we can see that the longest trips occur during peak hours while the early hours of the morning see much shorter trips on average. Fig. 3 has very little in the way of insight with the cluster information, though upon glancing at the visual I can make an educated hypothesis that youth are more likely to take short trips than senior citizens."
   ]
  },
  {
   "cell_type": "markdown",
   "id": "48d40bcd",
   "metadata": {},
   "source": [
    "# Question 9\n",
    "## Calculate the descriptive statistics for your clusters using the groupby() function and discuss your findings."
   ]
  },
  {
   "cell_type": "code",
   "execution_count": null,
   "id": "c3fa54e0",
   "metadata": {},
   "outputs": [],
   "source": [
    "# Create groupings by cluster for clarity\n",
    "df_2.loc[df_2['clusters'] == 2, 'cluster'] = 'Long Trip'\n",
    "df_2.loc[df_2['clusters'] == 1, 'cluster'] = 'Medium Trip'\n",
    "df_2.loc[df_2['clusters'] == 0, 'cluster'] = 'Short Trip'"
   ]
  },
  {
   "cell_type": "code",
   "execution_count": null,
   "id": "8a30274d",
   "metadata": {},
   "outputs": [],
   "source": [
    "df_2.groupby('cluster').agg({'age':['mean', 'median'], 'trip_duration':['mean', 'median'], 'start_hour':['mean', 'median'], 'start_station_latitude':['mean', 'median'], 'start_station_longitude':['mean', 'median']})"
   ]
  },
  {
   "cell_type": "markdown",
   "id": "b9794b37",
   "metadata": {},
   "source": [
    "# Question 10\n",
    "## Propose what these results could be useful for in future steps of an analytics pipeline."
   ]
  },
  {
   "cell_type": "markdown",
   "id": "74cdab98",
   "metadata": {},
   "source": [
    "### Unfortunately, according to the descriptive statistics the assumptions made at the visualization stage were mostly incorrect. The average and median age for all three clusters are very similar, the start hour (though it does show slight correlation with shorter trips starting earlier in the day) is almost too weak to call a relationship. Further insight and analysis would be needed to make sure there is no relationship between these variables. There is some good that comes of this, however. Starting longitude and latitude could give us insight on the most popular stations, and with that we could determine any relationships with further analysis to potentially find ideal bike dispursement. and the mean/median of the trip durations gives us a defined parameter for what a short, medium, and long trip means in terms of trip length. Further insight and analysis would be needed "
   ]
  },
  {
   "cell_type": "code",
   "execution_count": null,
   "id": "d7f57a3e",
   "metadata": {},
   "outputs": [],
   "source": [
    "# Export dataset for final presentation\n",
    "df_2.to_csv(os.path.join(path, 'citibike_cluster.csv'))"
   ]
  },
  {
   "cell_type": "code",
   "execution_count": null,
   "id": "a4ab4531",
   "metadata": {},
   "outputs": [],
   "source": []
  }
 ],
 "metadata": {
  "kernelspec": {
   "display_name": "Python 3 (ipykernel)",
   "language": "python",
   "name": "python3"
  },
  "language_info": {
   "codemirror_mode": {
    "name": "ipython",
    "version": 3
   },
   "file_extension": ".py",
   "mimetype": "text/x-python",
   "name": "python",
   "nbconvert_exporter": "python",
   "pygments_lexer": "ipython3",
   "version": "3.9.12"
  }
 },
 "nbformat": 4,
 "nbformat_minor": 5
}
