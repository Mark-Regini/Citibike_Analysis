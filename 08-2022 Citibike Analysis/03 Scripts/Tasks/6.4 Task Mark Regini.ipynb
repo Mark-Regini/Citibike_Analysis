{
 "cells": [
  {
   "cell_type": "markdown",
   "id": "b1a9a40c",
   "metadata": {},
   "source": [
    "# Table of Contents\n",
    "### - Notebook set-up\n",
    "### - Data cleaning\n",
    "### - Looking for trends through scatterplots\n",
    "### - Hypothesis\n",
    "### - Creating a training and test set\n",
    "### - Running regression over test set\n",
    "### - Relationship analysis"
   ]
  },
  {
   "cell_type": "markdown",
   "id": "3e95fcda",
   "metadata": {},
   "source": [
    "# Setting Up the Notebook"
   ]
  },
  {
   "cell_type": "code",
   "execution_count": null,
   "id": "a0bf6493",
   "metadata": {},
   "outputs": [],
   "source": [
    "# Import libraries\n",
    "import pandas as pd\n",
    "import numpy as np\n",
    "import seaborn as sns\n",
    "import matplotlib\n",
    "import matplotlib.pyplot as plt\n",
    "import os\n",
    "import sklearn\n",
    "from sklearn.model_selection import train_test_split \n",
    "from sklearn.linear_model import LinearRegression\n",
    "from sklearn.metrics import mean_squared_error, r2_score"
   ]
  },
  {
   "cell_type": "code",
   "execution_count": null,
   "id": "a6fc69dd",
   "metadata": {},
   "outputs": [],
   "source": [
    "# Ensure matplotlib visualize appear in notebook\n",
    "%matplotlib inline"
   ]
  },
  {
   "cell_type": "code",
   "execution_count": null,
   "id": "d7d3554d",
   "metadata": {},
   "outputs": [],
   "source": [
    "# Set up path and import dataset\n",
    "path = r'C:\\Users\\mmreg\\OneDrive\\Desktop\\Data Analytics Course Work\\Data Immersion\\Tasks\\08-2022 Exploratory Analytics Project\\02 Data'\n",
    "df = pd.read_csv(os.path.join(path, 'Prepared', 'citibike_clean_time.csv'), index_col = False)"
   ]
  },
  {
   "cell_type": "code",
   "execution_count": null,
   "id": "695e4c91",
   "metadata": {},
   "outputs": [],
   "source": [
    "# Ensure proper import\n",
    "df.head()"
   ]
  },
  {
   "cell_type": "markdown",
   "id": "330b4a63",
   "metadata": {},
   "source": [
    "# Question 3\n",
    "## Clean your data so that it's ready for analysis."
   ]
  },
  {
   "cell_type": "code",
   "execution_count": null,
   "id": "e6c0a94b",
   "metadata": {},
   "outputs": [],
   "source": [
    "# Check for missing values\n",
    "df.isnull().sum()\n",
    "# No missing values"
   ]
  },
  {
   "cell_type": "code",
   "execution_count": null,
   "id": "802fee92",
   "metadata": {},
   "outputs": [],
   "source": [
    "# Check for duplicate records\n",
    "dupes = df[df.duplicated()]"
   ]
  },
  {
   "cell_type": "code",
   "execution_count": null,
   "id": "359907ac",
   "metadata": {},
   "outputs": [],
   "source": [
    "dupes\n",
    "# No duplicates found"
   ]
  },
  {
   "cell_type": "code",
   "execution_count": null,
   "id": "2a5e16da",
   "metadata": {},
   "outputs": [],
   "source": [
    "# I noticed outliers in the birth year column a couple of tasks ago. I will check on this now.\n",
    "df['birth_year'].mean()"
   ]
  },
  {
   "cell_type": "code",
   "execution_count": null,
   "id": "5c45f9db",
   "metadata": {},
   "outputs": [],
   "source": [
    "df['birth_year'].median()"
   ]
  },
  {
   "cell_type": "code",
   "execution_count": null,
   "id": "48bb1571",
   "metadata": {},
   "outputs": [],
   "source": [
    "df['birth_year'].mode()"
   ]
  },
  {
   "cell_type": "code",
   "execution_count": null,
   "id": "794e39d4",
   "metadata": {},
   "outputs": [],
   "source": [
    "df['birth_year'].min()"
   ]
  },
  {
   "cell_type": "code",
   "execution_count": null,
   "id": "11982c20",
   "metadata": {},
   "outputs": [],
   "source": [
    "df['birth_year'].max()"
   ]
  },
  {
   "cell_type": "code",
   "execution_count": null,
   "id": "ba69b7ea",
   "metadata": {},
   "outputs": [],
   "source": [
    "# In the previous task, I asserted that 70 and younger was the demographic of the service. I wish to test to make sure this is correct.\n",
    "df_test = df[df['birth_year'] < 1943]"
   ]
  },
  {
   "cell_type": "code",
   "execution_count": null,
   "id": "7b47163e",
   "metadata": {},
   "outputs": [],
   "source": [
    "df_test['birth_year'].value_counts(dropna = False)"
   ]
  },
  {
   "cell_type": "code",
   "execution_count": null,
   "id": "96db4be5",
   "metadata": {},
   "outputs": [],
   "source": [
    "# These records account for less than 0.003% of records with this error in birth year; I will remove them from the dataset to reduce skew\n",
    "df = df[df['birth_year'] >= 1943]"
   ]
  },
  {
   "cell_type": "code",
   "execution_count": null,
   "id": "62bdf227",
   "metadata": {},
   "outputs": [],
   "source": [
    "# Confirm birth_year outliers have been neutralized by histogram\n",
    "sns.histplot(df['birth_year'], bins = 25, kde = True)"
   ]
  },
  {
   "cell_type": "code",
   "execution_count": null,
   "id": "d0c01d7b",
   "metadata": {},
   "outputs": [],
   "source": [
    "# Check gender column for outliers\n",
    "sns.histplot(df['gender'], bins = 15, kde = True)"
   ]
  },
  {
   "cell_type": "code",
   "execution_count": null,
   "id": "cf403444",
   "metadata": {},
   "outputs": [],
   "source": [
    "# It is known that the 0 for undecided exists in the data: lets check how many there are\n",
    "df['gender'].value_counts(dropna = False)"
   ]
  },
  {
   "cell_type": "code",
   "execution_count": null,
   "id": "145dbe9f",
   "metadata": {},
   "outputs": [],
   "source": [
    "# Since there are only 2 unknown points, I will remove them fromt he dataset\n",
    "df = df[df['gender'] >= 1]"
   ]
  },
  {
   "cell_type": "code",
   "execution_count": null,
   "id": "28a8cf81",
   "metadata": {},
   "outputs": [],
   "source": [
    "# Ensure gender has been dropped\n",
    "df['gender'].value_counts(dropna = False)"
   ]
  },
  {
   "cell_type": "markdown",
   "id": "9f288be6",
   "metadata": {},
   "source": [
    "### All data has been cleaned and ready for analysis"
   ]
  },
  {
   "cell_type": "markdown",
   "id": "cb458602",
   "metadata": {},
   "source": [
    "# Question 4\n",
    "## Explore your data visually (e.g., by way of a scatterplot), looking for variables whose relationship you’d like to test."
   ]
  },
  {
   "cell_type": "markdown",
   "id": "d0f949de",
   "metadata": {},
   "source": [
    "### The only correlation that had any sort of strength to it in 6.2 was the trip_duration and age. This will be looked at, among others"
   ]
  },
  {
   "cell_type": "code",
   "execution_count": null,
   "id": "60d5586e",
   "metadata": {},
   "outputs": [],
   "source": [
    "# Create scatterplot with trip_duration and age\n",
    "sns.set(rc = {'figure.figsize':(20,12)})\n",
    "df.plot(x = 'birth_year', y='trip_duration',style='o')\n",
    "plt.title('Duration of Trip by Age')  \n",
    "plt.xlabel('Birth Year')  \n",
    "plt.ylabel('Trip Duration (Sec)')  \n",
    "plt.show()"
   ]
  },
  {
   "cell_type": "code",
   "execution_count": null,
   "id": "9e409735",
   "metadata": {},
   "outputs": [],
   "source": [
    "# Create scatterplot with trip_duration and gender\n",
    "sns.set(rc = {'figure.figsize':(20,12)})\n",
    "df.plot(x = 'trip_duration', y='gender',style='o')\n",
    "plt.title('Duration of Trip by Gender')  \n",
    "plt.xlabel('Trip Duration (Sec)')  \n",
    "plt.ylabel('Gender (1: Male, 2: Female)')  \n",
    "plt.show()"
   ]
  },
  {
   "cell_type": "code",
   "execution_count": null,
   "id": "40389ac3",
   "metadata": {},
   "outputs": [],
   "source": [
    "# Create scatterplot of start_time and birth_year\n",
    "sns.set(rc = {'figure.figsize':(20,12)})\n",
    "df.plot(x = 'birth_year', y='start_hour',style='o')\n",
    "plt.title('Start of Trip by Age')  \n",
    "plt.xlabel('Birth Year')  \n",
    "plt.ylabel('Time of Trip Start')  \n",
    "plt.show()"
   ]
  },
  {
   "cell_type": "code",
   "execution_count": null,
   "id": "70c0953b",
   "metadata": {},
   "outputs": [],
   "source": [
    "# Create scatterplot of start_time and gender\n",
    "sns.set(rc = {'figure.figsize':(20,12)})\n",
    "df.plot(x = 'gender', y='start_hour',style='o')\n",
    "plt.title('Start of Trip by Gender')  \n",
    "plt.xlabel('Gender')  \n",
    "plt.ylabel('Time of Trip Start')  \n",
    "plt.show()"
   ]
  },
  {
   "cell_type": "markdown",
   "id": "dd458809",
   "metadata": {},
   "source": [
    "# Question 5\n",
    "## State your hypothesis in a markdown cell within your Jupyter notebook."
   ]
  },
  {
   "cell_type": "markdown",
   "id": "eab4368b",
   "metadata": {},
   "source": [
    "### There aren't many high correlation variables within the dataset; however, the one that looks most promising is the relationship between trip duration and birth year. Based on the scatterplot, I propose the following hypothesis:\n",
    "### - The younger the customer (or the higher the birth year), the longer the duration of the trip."
   ]
  },
  {
   "cell_type": "markdown",
   "id": "c6152361",
   "metadata": {},
   "source": [
    "# Question 6\n",
    "## Reshape the variables into NumPy arrays, with X being the independent variable and y being the dependent variable."
   ]
  },
  {
   "cell_type": "markdown",
   "id": "2fc86464",
   "metadata": {},
   "source": [
    "### As a reference, the independent variable (X) will be the column 'birth_year', and the dependent variable (y) will be the column 'trip_duration'."
   ]
  },
  {
   "cell_type": "code",
   "execution_count": null,
   "id": "d775dbbc",
   "metadata": {},
   "outputs": [],
   "source": [
    "# Create variables for numpy array with chosen (in)dependent variables\n",
    "X = df['birth_year'].values.reshape(-1,1)\n",
    "y = df['trip_duration'].values.reshape(-1,1)"
   ]
  },
  {
   "cell_type": "code",
   "execution_count": null,
   "id": "41d143d5",
   "metadata": {},
   "outputs": [],
   "source": [
    "# Confirm proper creation of objects\n",
    "X"
   ]
  },
  {
   "cell_type": "code",
   "execution_count": null,
   "id": "cbea235b",
   "metadata": {},
   "outputs": [],
   "source": [
    "y"
   ]
  },
  {
   "cell_type": "markdown",
   "id": "88327cf7",
   "metadata": {},
   "source": [
    "# Question 7\n",
    "## Split the data into two sets: a training set and a test set."
   ]
  },
  {
   "cell_type": "code",
   "execution_count": null,
   "id": "d0de8c67",
   "metadata": {},
   "outputs": [],
   "source": [
    "# Split into training and test set\n",
    "X_train, X_test, y_train, y_test = train_test_split(X, y, test_size=0.3, random_state=0)"
   ]
  },
  {
   "cell_type": "markdown",
   "id": "fe202097",
   "metadata": {},
   "source": [
    "# Question 8\n",
    "## Run a linear regression on the data.\n",
    "### a. First, fit the model you created to the training set."
   ]
  },
  {
   "cell_type": "code",
   "execution_count": null,
   "id": "c82155c9",
   "metadata": {},
   "outputs": [],
   "source": [
    "# Create regression object\n",
    "regression = LinearRegression()"
   ]
  },
  {
   "cell_type": "code",
   "execution_count": null,
   "id": "d42cfe47",
   "metadata": {},
   "outputs": [],
   "source": [
    "# Fit the regression object to the training data\n",
    "regression.fit(X_train, y_train)"
   ]
  },
  {
   "cell_type": "markdown",
   "id": "f68d47ca",
   "metadata": {},
   "source": [
    "### b. Then, create a prediction for y on the test set."
   ]
  },
  {
   "cell_type": "code",
   "execution_count": null,
   "id": "395b08fa",
   "metadata": {},
   "outputs": [],
   "source": [
    "# Predict y values using X\n",
    "y_predicted = regression.predict(X_test)"
   ]
  },
  {
   "cell_type": "markdown",
   "id": "29839c61",
   "metadata": {},
   "source": [
    "# Question 9\n",
    "## Create a plot that shows the regression line on the test set."
   ]
  },
  {
   "cell_type": "code",
   "execution_count": null,
   "id": "680d96a3",
   "metadata": {},
   "outputs": [],
   "source": [
    "# Plot predicted y-values\n",
    "plot_test = plt\n",
    "plot_test.scatter(X_test, y_test, color='gray', s = 15)\n",
    "plot_test.plot(X_test, y_predicted, color='red', linewidth =2)\n",
    "plot_test.title('Trip Duration by Age (Test set)')\n",
    "plot_test.xlabel('Birth Year')\n",
    "plot_test.ylabel('Trip Duration (Sec)')\n",
    "plot_test.show()"
   ]
  },
  {
   "cell_type": "markdown",
   "id": "28291685",
   "metadata": {},
   "source": [
    "# Question 10\n",
    "## Write your own interpretation of how well the line appears to fit the data in a markdown cell.\n",
    "### Looking at the line, I can immediately tell that there will not be a good fit with this regression. The vast majority of points are far away from the regression line, and it seems to be a hard task to try and estimate this."
   ]
  },
  {
   "cell_type": "markdown",
   "id": "dadac1a8",
   "metadata": {},
   "source": [
    "# Question 11\n",
    "## Check the model performance statistics—MSE and R2."
   ]
  },
  {
   "cell_type": "code",
   "execution_count": null,
   "id": "3cfa9d06",
   "metadata": {},
   "outputs": [],
   "source": [
    "# Create the objects for the model summary stats\n",
    "rmse = mean_squared_error(y_test, y_predicted)\n",
    "r2 = r2_score(y_test, y_predicted)"
   ]
  },
  {
   "cell_type": "code",
   "execution_count": null,
   "id": "822cfec9",
   "metadata": {},
   "outputs": [],
   "source": [
    "# View the model summary statistics\n",
    "print('Slope:' ,regression.coef_)\n",
    "print('Mean squared error: ', rmse)\n",
    "print('R2 score: ', r2)"
   ]
  },
  {
   "cell_type": "markdown",
   "id": "020ea580",
   "metadata": {},
   "source": [
    "# Question 12\n",
    "## Compare the predicted y values with the actual y values in a dataframe."
   ]
  },
  {
   "cell_type": "code",
   "execution_count": null,
   "id": "9fc9dd53",
   "metadata": {},
   "outputs": [],
   "source": [
    "# View predicted and actual y values in dataframe\n",
    "data = pd.DataFrame({'Actual': y_test.flatten(), 'Predicted': y_predicted.flatten()})\n",
    "data.head(30)"
   ]
  },
  {
   "cell_type": "markdown",
   "id": "00d415bb",
   "metadata": {},
   "source": [
    "# Question 13\n",
    "## Include your thoughts on how well the model performed on the test set in a markdown cell."
   ]
  },
  {
   "cell_type": "markdown",
   "id": "7d16fa20",
   "metadata": {},
   "source": [
    "### Overall, the model performed quite horribly. The y-values that were predicted are very linear, while the plotted data suggests that the data is much more variable. With the removal of the birth years that are too few and far in between we removed most bias; however the linear regression model just does not work with this correlation."
   ]
  },
  {
   "cell_type": "code",
   "execution_count": null,
   "id": "da816372",
   "metadata": {},
   "outputs": [],
   "source": [
    "# Save dataset for future analysis\n",
    "df.to_csv(os.path.join(path, 'Prepared', 'citibike_clean.csv'))"
   ]
  },
  {
   "cell_type": "code",
   "execution_count": null,
   "id": "bd023d09",
   "metadata": {},
   "outputs": [],
   "source": []
  }
 ],
 "metadata": {
  "kernelspec": {
   "display_name": "Python 3 (ipykernel)",
   "language": "python",
   "name": "python3"
  },
  "language_info": {
   "codemirror_mode": {
    "name": "ipython",
    "version": 3
   },
   "file_extension": ".py",
   "mimetype": "text/x-python",
   "name": "python",
   "nbconvert_exporter": "python",
   "pygments_lexer": "ipython3",
   "version": "3.9.12"
  }
 },
 "nbformat": 4,
 "nbformat_minor": 5
}
