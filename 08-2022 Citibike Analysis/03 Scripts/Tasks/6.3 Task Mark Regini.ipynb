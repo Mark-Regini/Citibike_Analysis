{
 "cells": [
  {
   "cell_type": "markdown",
   "id": "02b7d516",
   "metadata": {},
   "source": [
    "# Table of Contents\n",
    "### - Data wrangling and cleaning\n",
    "### - Choropleth maps\n",
    "### - Findings analysis"
   ]
  },
  {
   "cell_type": "markdown",
   "id": "402a5cd8",
   "metadata": {},
   "source": [
    "# Setting up the Notebook"
   ]
  },
  {
   "cell_type": "code",
   "execution_count": null,
   "id": "cb74dd7f",
   "metadata": {},
   "outputs": [],
   "source": [
    "import pandas as pd\n",
    "import numpy as np\n",
    "import seaborn as sns\n",
    "import matplotlib\n",
    "import os\n",
    "import folium\n",
    "import json\n",
    "from folium.plugins import MarkerCluster"
   ]
  },
  {
   "cell_type": "code",
   "execution_count": null,
   "id": "2f723b98",
   "metadata": {},
   "outputs": [],
   "source": [
    "# Have matplotlib visuals appear in notebook\n",
    "%matplotlib inline"
   ]
  },
  {
   "cell_type": "code",
   "execution_count": null,
   "id": "5b054b78",
   "metadata": {},
   "outputs": [],
   "source": [
    "path = r'C:\\Users\\mmreg\\OneDrive\\Desktop\\Data Analytics Course Work\\Data Immersion\\Tasks\\08-2022 Exploratory Analytics Project\\02 Data'"
   ]
  },
  {
   "cell_type": "code",
   "execution_count": null,
   "id": "696521b5",
   "metadata": {},
   "outputs": [],
   "source": [
    "# Import dataset for analysis\n",
    "df = pd.read_csv(os.path.join(path, 'Prepared', 'citibike_clean.csv'), index_col = False)"
   ]
  },
  {
   "cell_type": "code",
   "execution_count": null,
   "id": "e2d6ea18",
   "metadata": {},
   "outputs": [],
   "source": [
    "df.head()"
   ]
  },
  {
   "cell_type": "code",
   "execution_count": null,
   "id": "1ca89c66",
   "metadata": {},
   "outputs": [],
   "source": [
    "df = df.drop(columns = ['Unnamed: 0'])"
   ]
  },
  {
   "cell_type": "code",
   "execution_count": null,
   "id": "f8b6bf15",
   "metadata": {},
   "outputs": [],
   "source": [
    "df.head()"
   ]
  },
  {
   "cell_type": "code",
   "execution_count": null,
   "id": "96eccae4",
   "metadata": {},
   "outputs": [],
   "source": [
    "# Import JSON file for mapping\n",
    "nyc_geo = r'C:\\Users\\mmreg\\OneDrive\\Desktop\\Data Analytics Course Work\\Data Immersion\\Tasks\\08-2022 Exploratory Analytics Project\\02 Data\\Original\\6.3 NYC Geoinfo.geojson'"
   ]
  },
  {
   "cell_type": "code",
   "execution_count": null,
   "id": "9fe28e5a",
   "metadata": {},
   "outputs": [],
   "source": [
    "nyc_geo"
   ]
  },
  {
   "cell_type": "markdown",
   "id": "65f366cc",
   "metadata": {},
   "source": [
    "# Question 5\n",
    "## Wrangle your project data to meet the needs of your analysis"
   ]
  },
  {
   "cell_type": "code",
   "execution_count": null,
   "id": "b8b9b390",
   "metadata": {},
   "outputs": [],
   "source": [
    "# Select necessary columns to put into list\n",
    "columns = ['weekday', 'start_hour', 'start_station_latitude', 'start_station_longitude', 'end_station_latitude', 'end_station_longitude', 'trip_duration', 'start_station_name', 'end_station_name']"
   ]
  },
  {
   "cell_type": "code",
   "execution_count": null,
   "id": "bcd4b37b",
   "metadata": {},
   "outputs": [],
   "source": [
    "# Create required subset\n",
    "df_map = df[columns]"
   ]
  },
  {
   "cell_type": "code",
   "execution_count": null,
   "id": "c0fa004a",
   "metadata": {},
   "outputs": [],
   "source": [
    "df_map.head()"
   ]
  },
  {
   "cell_type": "markdown",
   "id": "b82de1e9",
   "metadata": {},
   "source": [
    "# Question 6\n",
    "## Clean your data set — watch for missing and extreme values."
   ]
  },
  {
   "cell_type": "code",
   "execution_count": null,
   "id": "816bef62",
   "metadata": {},
   "outputs": [],
   "source": [
    "# Look for missing values\n",
    "df_map.isnull().sum()"
   ]
  },
  {
   "cell_type": "code",
   "execution_count": null,
   "id": "9ed5b100",
   "metadata": {},
   "outputs": [],
   "source": [
    "# No missing values present\n",
    "# Check for extreme variables\n",
    "sns.histplot(df_map['weekday'], bins=20, kde = True)"
   ]
  },
  {
   "cell_type": "code",
   "execution_count": null,
   "id": "345237df",
   "metadata": {},
   "outputs": [],
   "source": [
    "sns.histplot(df_map['start_hour'], bins = 24, kde = True)"
   ]
  },
  {
   "cell_type": "code",
   "execution_count": null,
   "id": "a86c6f99",
   "metadata": {},
   "outputs": [],
   "source": [
    "sns.histplot(df_map['start_station_longitude'], bins = 20, kde = True)"
   ]
  },
  {
   "cell_type": "code",
   "execution_count": null,
   "id": "a8a7a5bc",
   "metadata": {},
   "outputs": [],
   "source": [
    "sns.histplot(df_map['start_station_latitude'], bins = 20, kde = True)"
   ]
  },
  {
   "cell_type": "code",
   "execution_count": null,
   "id": "a75e4d45",
   "metadata": {},
   "outputs": [],
   "source": [
    "sns.histplot(df_map['end_station_longitude'], bins = 20, kde = True)"
   ]
  },
  {
   "cell_type": "code",
   "execution_count": null,
   "id": "7a33d242",
   "metadata": {},
   "outputs": [],
   "source": [
    "sns.histplot(df_map['end_station_latitude'], bins = 20, kde = True)"
   ]
  },
  {
   "cell_type": "markdown",
   "id": "a35cc7d7",
   "metadata": {},
   "source": [
    "### All variables seem to be within normal parameters"
   ]
  },
  {
   "cell_type": "markdown",
   "id": "e9a254eb",
   "metadata": {},
   "source": [
    "# Question 7\n",
    "## Create a choropleth map using a variable of your choice."
   ]
  },
  {
   "cell_type": "code",
   "execution_count": null,
   "id": "a906c056",
   "metadata": {},
   "outputs": [],
   "source": [
    "# Create dataframe with just start locations and start hour\n",
    "plot_data = df_map[['start_hour', 'start_station_latitude', 'start_station_longitude', 'start_station_name']]\n",
    "plot_data.head()"
   ]
  },
  {
   "cell_type": "code",
   "execution_count": null,
   "id": "affd8c80",
   "metadata": {},
   "outputs": [],
   "source": [
    "# Create map of starting locations\n",
    "m = folium.Map(location = [40.712772, -74.006058], tiles = 'OpenStreetMap', zoom_start=13)\n",
    "\n",
    "markerCluster = MarkerCluster().add_to(m)\n",
    "\n",
    "for i, row in plot_data.iterrows():\n",
    "    lat = plot_data.at[i, 'start_station_latitude']\n",
    "    lng = plot_data.at[i, 'start_station_longitude']\n",
    "    \n",
    "    popup = 'Station: ' + str(plot_data.at[i, 'start_station_name'])\n",
    "    \n",
    "    folium.Marker(location = [lat, lng], popup = popup, icon = \\\n",
    "                                 folium.Icon(color = 'blue')).add_to(markerCluster)\n",
    "\n",
    "m.save('citibike_start_locations.html')"
   ]
  },
  {
   "cell_type": "code",
   "execution_count": null,
   "id": "236ad9f2",
   "metadata": {},
   "outputs": [],
   "source": [
    "# Create dataframe with just end locations\n",
    "plot_data_2 = df_map[['end_station_latitude', 'end_station_longitude', 'end_station_name']]\n",
    "plot_data_2.head()"
   ]
  },
  {
   "cell_type": "code",
   "execution_count": null,
   "id": "b348c6b7",
   "metadata": {},
   "outputs": [],
   "source": [
    "# Create map of end location\n",
    "m = folium.Map(location = [40.712772, -74.006058], tiles = 'OpenStreetMap', zoom_start=13)\n",
    "\n",
    "markerCluster = MarkerCluster().add_to(m)\n",
    "\n",
    "for i, row in plot_data_2.iterrows():\n",
    "    lat = plot_data_2.at[i, 'end_station_latitude']\n",
    "    lng = plot_data_2.at[i, 'end_station_longitude']\n",
    "    \n",
    "    popup = 'Station: ' + str(plot_data_2.at[i, 'end_station_name'])\n",
    "    \n",
    "    folium.Marker(location = [lat, lng], popup = popup, icon = \\\n",
    "                                 folium.Icon(color = 'blue')).add_to(markerCluster)\n",
    "\n",
    "m.save('citibike_end_locations.html')"
   ]
  },
  {
   "cell_type": "markdown",
   "id": "24155d4b",
   "metadata": {},
   "source": [
    "# Question 8\n",
    "## Discuss the results and what they mean in a markdown section."
   ]
  },
  {
   "cell_type": "markdown",
   "id": "04876c8a",
   "metadata": {},
   "source": [
    "### Using the two maps, we can see where most bikes are starting from and where they are ending. The range of locations for the company are Manhatten, with a little overlap in the Brooklyn borough. If we were to look in more detail, we can see that the majority of bikes are rented inland, and are taken to the shoreline. We can also see which stations are seeing the most action in terms of rental based on the color of the cluster. The next question I would have for this data is to find out empirically whether or not my assumption is correct about bikes being rented from the interior of the island and taken to the shore."
   ]
  },
  {
   "cell_type": "code",
   "execution_count": null,
   "id": "b4e135de",
   "metadata": {},
   "outputs": [],
   "source": []
  }
 ],
 "metadata": {
  "kernelspec": {
   "display_name": "Python 3 (ipykernel)",
   "language": "python",
   "name": "python3"
  },
  "language_info": {
   "codemirror_mode": {
    "name": "ipython",
    "version": 3
   },
   "file_extension": ".py",
   "mimetype": "text/x-python",
   "name": "python",
   "nbconvert_exporter": "python",
   "pygments_lexer": "ipython3",
   "version": "3.9.12"
  }
 },
 "nbformat": 4,
 "nbformat_minor": 5
}
