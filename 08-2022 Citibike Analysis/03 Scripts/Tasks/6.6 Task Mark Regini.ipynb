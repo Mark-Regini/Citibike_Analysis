{
 "cells": [
  {
   "cell_type": "markdown",
   "id": "aab5429d",
   "metadata": {},
   "source": [
    "# Table of Contents\n",
    "### - Subset data and set date as index\n",
    "### - Look for stationarity\n",
    "### - Dickey-Fuller test\n",
    "### - Autocorrelation chart\n",
    "### - Differencing data"
   ]
  },
  {
   "cell_type": "markdown",
   "id": "bb853ae7",
   "metadata": {},
   "source": [
    "# Setting up Notebook"
   ]
  },
  {
   "cell_type": "code",
   "execution_count": null,
   "id": "1a7b0961",
   "metadata": {},
   "outputs": [],
   "source": [
    "# Import relevant libraries\n",
    "import quandl\n",
    "import pandas as pd\n",
    "import numpy as np\n",
    "import seaborn as sns\n",
    "import matplotlib\n",
    "import matplotlib.pyplot as plt\n",
    "import statsmodels.api as sm\n",
    "import os\n",
    "import warnings"
   ]
  },
  {
   "cell_type": "code",
   "execution_count": null,
   "id": "7d264bee",
   "metadata": {},
   "outputs": [],
   "source": [
    "# Set path for visualization export\n",
    "path = r'C:\\Users\\mmreg\\OneDrive\\Desktop\\Data Analytics Course Work\\Data Immersion\\Tasks\\08-2022 Exploratory Analytics Project\\04'"
   ]
  },
  {
   "cell_type": "code",
   "execution_count": null,
   "id": "e5afbc85",
   "metadata": {},
   "outputs": [],
   "source": [
    "# Configure style and warnings\n",
    "warnings.filterwarnings(\"ignore\")\n",
    "plt.style.use('fivethirtyeight')"
   ]
  },
  {
   "cell_type": "code",
   "execution_count": null,
   "id": "2eead2c7",
   "metadata": {},
   "outputs": [],
   "source": [
    "# Set API Key\n",
    "quandl.ApiConfig.api_key = 'm5U1JC4r3TgxsTc9MFS4'"
   ]
  },
  {
   "cell_type": "code",
   "execution_count": null,
   "id": "814424e1",
   "metadata": {},
   "outputs": [],
   "source": [
    "# Import Quandl variable\n",
    "df = quandl.get('UMICH/SOC37')\n",
    "df.head()"
   ]
  },
  {
   "cell_type": "markdown",
   "id": "2608f7bf",
   "metadata": {},
   "source": [
    "# Question 3\n",
    "## Make a subset of your data set if necessary. Think about the historical domain of the series to decide if you need to (if there are irrelevant historical events in your data that would bias your analysis, for example)."
   ]
  },
  {
   "cell_type": "code",
   "execution_count": null,
   "id": "608f99dc",
   "metadata": {},
   "outputs": [],
   "source": [
    "# Will create subset with only the 'Good time to buy' column and date as the index\n",
    "df_2 = df.reset_index()\n",
    "df_2.head()"
   ]
  },
  {
   "cell_type": "code",
   "execution_count": null,
   "id": "51553713",
   "metadata": {},
   "outputs": [],
   "source": [
    "df_3 = df_2[['Date', 'Good time to Buy']]\n",
    "df_3.head()"
   ]
  },
  {
   "cell_type": "code",
   "execution_count": null,
   "id": "20e61866",
   "metadata": {},
   "outputs": [],
   "source": [
    "# Reset date as the index\n",
    "from datetime import datetime\n",
    "\n",
    "df_3['datetime'] = pd.to_datetime(df_3['Date'])\n",
    "df_3 = df_3.set_index('datetime')\n",
    "df_3.drop(['Date'], axis = 1, inplace = True)\n",
    "df_3.head()"
   ]
  },
  {
   "cell_type": "markdown",
   "id": "09a302f1",
   "metadata": {},
   "source": [
    "# Question 4\n",
    "## Create a line chart of your data."
   ]
  },
  {
   "cell_type": "code",
   "execution_count": null,
   "id": "f65385c7",
   "metadata": {},
   "outputs": [],
   "source": [
    "# Create line plot using matplotlib\n",
    "car = plt.figure(figsize=(15,5), dpi=250)\n",
    "plt.plot(df_3)"
   ]
  },
  {
   "cell_type": "code",
   "execution_count": null,
   "id": "18fdfd68",
   "metadata": {},
   "outputs": [],
   "source": [
    "# Save visualization\n",
    "car.figure.savefig(os.path.join(path, '04 Analysis', 'Visualization', 'car_insight.png'))"
   ]
  },
  {
   "cell_type": "markdown",
   "id": "a361acd4",
   "metadata": {},
   "source": [
    "# Question 5\n",
    "## Decompose the data’s components."
   ]
  },
  {
   "cell_type": "code",
   "execution_count": null,
   "id": "5802fcd0",
   "metadata": {},
   "outputs": [],
   "source": [
    "# Decompose chart\n",
    "decomposition = sm.tsa.seasonal_decompose(df_3, model='additive')\n",
    "from pylab import rcParams\n",
    "rcParams['figure.figsize'] = 18, 7"
   ]
  },
  {
   "cell_type": "code",
   "execution_count": null,
   "id": "93eb47cd",
   "metadata": {},
   "outputs": [],
   "source": [
    "decomposition.plot()\n",
    "plt.show()"
   ]
  },
  {
   "cell_type": "markdown",
   "id": "1ff1d257",
   "metadata": {},
   "source": [
    "### The presence of a trendline and seasonality both indicate that this is non-stationary in nature. The \"overall\" trend of the data seems to be fairly neutral, possibly marking this as a week non-stationary trend. We will run more statistical analysis to clarify"
   ]
  },
  {
   "cell_type": "markdown",
   "id": "c31f3082",
   "metadata": {},
   "source": [
    "# Question 6\n",
    "## Conduct a Dickey-Fuller test to check for stationarity. Interpret the results in a markdown cell and reference your null hypothesis."
   ]
  },
  {
   "cell_type": "code",
   "execution_count": null,
   "id": "615eb442",
   "metadata": {},
   "outputs": [],
   "source": [
    "# Conduct Dickey-Fuller test\n",
    "from statsmodels.tsa.stattools import adfuller # Import the adfuller() function"
   ]
  },
  {
   "cell_type": "code",
   "execution_count": null,
   "id": "32503c16",
   "metadata": {},
   "outputs": [],
   "source": [
    "def dickey_fuller(timeseries): # Define the function\n",
    "    # Perform the Dickey-Fuller test:\n",
    "    print ('Dickey-Fuller Stationarity test:')\n",
    "    test = adfuller(timeseries, autolag='AIC')\n",
    "    result = pd.Series(test[0:4], index=['Test Statistic','p-value','Number of Lags Used','Number of Observations Used'])\n",
    "    for key,value in test[4].items():\n",
    "       result['Critical Value (%s)'%key] = value\n",
    "    print (result)"
   ]
  },
  {
   "cell_type": "code",
   "execution_count": null,
   "id": "e1838145",
   "metadata": {},
   "outputs": [],
   "source": [
    "dickey_fuller(df_3)"
   ]
  },
  {
   "cell_type": "markdown",
   "id": "c95550e0",
   "metadata": {},
   "source": [
    "### Null hypothesis: If the test statistic is larger than the critical value at 5%, we cannot reject the null hypothesis. If it is smaller than the critical value, we can reject it. Based on the DF test, we can see that the test statistic is smaller than the 5% critical value. This means we cannot reject the null hypothesis and that the data is non-stationary. We will confirm this by running a plot of autocorrleation"
   ]
  },
  {
   "cell_type": "code",
   "execution_count": null,
   "id": "c1502cc7",
   "metadata": {},
   "outputs": [],
   "source": [
    "# Create autocorrelation plot\n",
    "from statsmodels.graphics.tsaplots import plot_acf, plot_pacf\n",
    "plot_acf(df_3)\n",
    "plt.show()"
   ]
  },
  {
   "cell_type": "markdown",
   "id": "ede6c96f",
   "metadata": {},
   "source": [
    "### There are 22 bars that fall outside of the confidence interval, way more than 9 which is the rule of thumb in the industry. We will need to make this data stationary."
   ]
  },
  {
   "cell_type": "markdown",
   "id": "2e94af37",
   "metadata": {},
   "source": [
    "# Question 7\n",
    "## If your data isn’t stationary, conduct a round of differencing on it and repeat step 6."
   ]
  },
  {
   "cell_type": "code",
   "execution_count": null,
   "id": "193debe5",
   "metadata": {},
   "outputs": [],
   "source": [
    "# Difference the data\n",
    "df_dif = df_3 - df_3.shift(1)"
   ]
  },
  {
   "cell_type": "code",
   "execution_count": null,
   "id": "47bc0307",
   "metadata": {},
   "outputs": [],
   "source": [
    "# Drop NaN values that resulted from differencing\n",
    "df_dif.dropna(inplace = True) "
   ]
  },
  {
   "cell_type": "code",
   "execution_count": null,
   "id": "86fd86ce",
   "metadata": {},
   "outputs": [],
   "source": [
    "# Check to ensure differencing was completed\n",
    "df_dif.head()"
   ]
  },
  {
   "cell_type": "code",
   "execution_count": null,
   "id": "6a7416fd",
   "metadata": {},
   "outputs": [],
   "source": [
    "# Plot out the differenced dataset and run Dickey-Fuller test\n",
    "plt.figure(figsize=(15,5), dpi=250)\n",
    "plt.plot(df_dif)"
   ]
  },
  {
   "cell_type": "code",
   "execution_count": null,
   "id": "a91fe199",
   "metadata": {},
   "outputs": [],
   "source": [
    "# Much more stationary looking. Use statistics to confirm\n",
    "def dickey_fuller(timeseries): # Define the function\n",
    "    # Perform the Dickey-Fuller test:\n",
    "    print ('Dickey-Fuller Stationarity test:')\n",
    "    test = adfuller(timeseries, autolag='AIC')\n",
    "    result = pd.Series(test[0:4], index=['Test Statistic','p-value','Number of Lags Used','Number of Observations Used'])\n",
    "    for key,value in test[4].items():\n",
    "       result['Critical Value (%s)'%key] = value\n",
    "    print (result)"
   ]
  },
  {
   "cell_type": "code",
   "execution_count": null,
   "id": "f00baa0f",
   "metadata": {},
   "outputs": [],
   "source": [
    "dickey_fuller(df_dif)"
   ]
  },
  {
   "cell_type": "code",
   "execution_count": null,
   "id": "3b8c1bbf",
   "metadata": {},
   "outputs": [],
   "source": [
    "from statsmodels.graphics.tsaplots import plot_acf, plot_pacf\n",
    "plot_acf(df_dif)\n",
    "plt.show()"
   ]
  },
  {
   "cell_type": "markdown",
   "id": "5a5c7907",
   "metadata": {},
   "source": [
    "### Even though the autocorrelation chart shows it is ok, the DF test says otherwise. I will run another round of stationarizing"
   ]
  },
  {
   "cell_type": "markdown",
   "id": "dd7e630a",
   "metadata": {},
   "source": [
    "# Question 8\n",
    "## If your data still isn’t stationary, perform another round of differencing and repeat step 6."
   ]
  },
  {
   "cell_type": "code",
   "execution_count": null,
   "id": "2761279a",
   "metadata": {},
   "outputs": [],
   "source": [
    "df_dif_2 = df_dif - df_dif.shift(1)\n",
    "df_dif_2.dropna(inplace = True)"
   ]
  },
  {
   "cell_type": "code",
   "execution_count": null,
   "id": "187818e6",
   "metadata": {},
   "outputs": [],
   "source": [
    "df_dif_2.head()"
   ]
  },
  {
   "cell_type": "code",
   "execution_count": null,
   "id": "6352d0d9",
   "metadata": {},
   "outputs": [],
   "source": [
    "# Plot newly differenced data\n",
    "plt.figure(figsize=(15,5), dpi=250)\n",
    "plt.plot(df_dif_2)"
   ]
  },
  {
   "cell_type": "code",
   "execution_count": null,
   "id": "a96f8e04",
   "metadata": {},
   "outputs": [],
   "source": [
    "def dickey_fuller(timeseries): # Define the function\n",
    "    # Perform the Dickey-Fuller test:\n",
    "    print ('Dickey-Fuller Stationarity test:')\n",
    "    test = adfuller(timeseries, autolag='AIC')\n",
    "    result = pd.Series(test[0:4], index=['Test Statistic','p-value','Number of Lags Used','Number of Observations Used'])\n",
    "    for key,value in test[4].items():\n",
    "       result['Critical Value (%s)'%key] = value\n",
    "    print (result)"
   ]
  },
  {
   "cell_type": "code",
   "execution_count": null,
   "id": "19164073",
   "metadata": {},
   "outputs": [],
   "source": [
    "dickey_fuller(df_dif_2)"
   ]
  },
  {
   "cell_type": "code",
   "execution_count": null,
   "id": "49f453ae",
   "metadata": {},
   "outputs": [],
   "source": [
    "plot_acf(df_dif_2)\n",
    "plt.show()"
   ]
  },
  {
   "cell_type": "code",
   "execution_count": null,
   "id": "9bffa28b",
   "metadata": {},
   "outputs": [],
   "source": []
  }
 ],
 "metadata": {
  "kernelspec": {
   "display_name": "Python 3 (ipykernel)",
   "language": "python",
   "name": "python3"
  },
  "language_info": {
   "codemirror_mode": {
    "name": "ipython",
    "version": 3
   },
   "file_extension": ".py",
   "mimetype": "text/x-python",
   "name": "python",
   "nbconvert_exporter": "python",
   "pygments_lexer": "ipython3",
   "version": "3.9.12"
  }
 },
 "nbformat": 4,
 "nbformat_minor": 5
}
