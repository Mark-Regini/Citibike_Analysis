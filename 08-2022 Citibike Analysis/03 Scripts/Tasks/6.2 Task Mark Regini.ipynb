{
 "cells": [
  {
   "cell_type": "markdown",
   "id": "b4144f21",
   "metadata": {},
   "source": [
    "# Table of Contents\n",
    "### - Correlation heatmap (matplotlib)\n",
    "### - Correlation heatmap (seaborn)\n",
    "### - Scatterplots\n",
    "### - Pair plots\n",
    "### - Correlation analysis\n",
    "### - Current hypotheses"
   ]
  },
  {
   "cell_type": "markdown",
   "id": "f41fedc9",
   "metadata": {},
   "source": [
    "# Notebook Setup"
   ]
  },
  {
   "cell_type": "code",
   "execution_count": null,
   "id": "c2196df2",
   "metadata": {},
   "outputs": [],
   "source": [
    "# Import related libraries\n",
    "import pandas as pd\n",
    "import numpy as np\n",
    "import os\n",
    "import seaborn as sns\n",
    "import matplotlib.pyplot as plt\n",
    "import matplotlib"
   ]
  },
  {
   "cell_type": "code",
   "execution_count": null,
   "id": "2072146b",
   "metadata": {},
   "outputs": [],
   "source": [
    "# Import cleaned dataset\n",
    "path = r'C:\\Users\\mmreg\\OneDrive\\Desktop\\Data Analytics Course Work\\Data Immersion\\Tasks\\08-2022 Exploratory Analytics Project\\02 Data'"
   ]
  },
  {
   "cell_type": "code",
   "execution_count": null,
   "id": "cace2373",
   "metadata": {},
   "outputs": [],
   "source": [
    "df = pd.read_csv(os.path.join(path, 'Prepared', 'citibike_clean.csv'), index_col = False)"
   ]
  },
  {
   "cell_type": "code",
   "execution_count": null,
   "id": "13555cfd",
   "metadata": {},
   "outputs": [],
   "source": [
    "df.head()"
   ]
  },
  {
   "cell_type": "code",
   "execution_count": null,
   "id": "22a248b9",
   "metadata": {},
   "outputs": [],
   "source": [
    "matplotlib.__version__"
   ]
  },
  {
   "cell_type": "code",
   "execution_count": null,
   "id": "c0bf6d83",
   "metadata": {},
   "outputs": [],
   "source": [
    "%matplotlib inline"
   ]
  },
  {
   "cell_type": "markdown",
   "id": "0fff006c",
   "metadata": {},
   "source": [
    "# Question 2"
   ]
  },
  {
   "cell_type": "markdown",
   "id": "d69c6667",
   "metadata": {},
   "source": [
    "## Use the questions you defined in the previous task to pick out variables from your data set suitable for your exploratory visual analysis."
   ]
  },
  {
   "cell_type": "code",
   "execution_count": null,
   "id": "f42a8deb",
   "metadata": {},
   "outputs": [],
   "source": [
    "# Create dataframe with columns removed for analysis\n",
    "# We will not need the trip_id, bike_id, start_station_name, end_station_name, start_station_id, end_station_id, end_station_latitude, end_station_longitude, weekday, subscriber, customer_volume or end_time\n",
    "df_vis = df.drop(columns = ['trip_id', 'bike_id', 'start_station_name', 'end_station_name', 'start_station_id', 'end_station_id', 'end_station_latitude', 'end_station_longitude', 'weekday', 'subscriber', 'end_time', 'customer_volume'])"
   ]
  },
  {
   "cell_type": "code",
   "execution_count": null,
   "id": "f519b5a3",
   "metadata": {},
   "outputs": [],
   "source": [
    "# Ensure successful column drop\n",
    "df_vis.head()"
   ]
  },
  {
   "cell_type": "code",
   "execution_count": null,
   "id": "c759a854",
   "metadata": {},
   "outputs": [],
   "source": [
    "df_vis = df_vis.drop(columns = ['Unnamed: 0'])"
   ]
  },
  {
   "cell_type": "code",
   "execution_count": null,
   "id": "df40a6c5",
   "metadata": {},
   "outputs": [],
   "source": [
    "df_vis.shape\n",
    "# With 11 columns dropped, the shape should be (42856,8). We are good to go."
   ]
  },
  {
   "cell_type": "code",
   "execution_count": null,
   "id": "85f86633",
   "metadata": {},
   "outputs": [],
   "source": [
    "df_vis.rename(columns = {'start_hour' : 'Start Hour', 'start_time' : 'Start Time', \n",
    "                     'start_station_latitude': 'Latitude', 'start_station_longitude': 'Longitude',\n",
    "                     'trip_duration': 'Trip Length', 'birth_year' : 'Birth Year', 'age' : 'Age', 'gender' : 'Gender' },\n",
    "                      inplace = True)"
   ]
  },
  {
   "cell_type": "code",
   "execution_count": null,
   "id": "b1fb8aaa",
   "metadata": {},
   "outputs": [],
   "source": [
    "df_vis.head()"
   ]
  },
  {
   "cell_type": "markdown",
   "id": "833a178e",
   "metadata": {},
   "source": [
    "# Question 3"
   ]
  },
  {
   "cell_type": "markdown",
   "id": "805fc036",
   "metadata": {},
   "source": [
    "## Create a correlation matrix heatmap (colored)."
   ]
  },
  {
   "cell_type": "code",
   "execution_count": null,
   "id": "57412096",
   "metadata": {},
   "outputs": [],
   "source": [
    "# View correlation table to ensure data is ready for heatmap\n",
    "df_vis.corr()"
   ]
  },
  {
   "cell_type": "code",
   "execution_count": null,
   "id": "beb3e289",
   "metadata": {},
   "outputs": [],
   "source": [
    "# Create heatmap using matplotlib\n",
    "f = plt.figure(figsize=(10, 10))\n",
    "plt.matshow(df_vis.corr(), fignum=f.number)\n",
    "plt.xticks(range(df_vis.shape[1]), df_vis.columns, fontsize=12, rotation=45)\n",
    "plt.yticks(range(df_vis.shape[1]), df_vis.columns, fontsize=12)\n",
    "cb = plt.colorbar()\n",
    "cb.ax.tick_params(labelsize=14)\n",
    "plt.title('Correlation Matrix', fontsize=14)"
   ]
  },
  {
   "cell_type": "code",
   "execution_count": null,
   "id": "65aca499",
   "metadata": {},
   "outputs": [],
   "source": [
    "# Create a subplot with matplotlib\n",
    "f,ax = plt.subplots(figsize=(10,10))\n",
    "\n",
    "\n",
    "corr = sns.heatmap(df_vis.corr(), annot = True, ax = ax) # The `annot` argument allows the plot to \n",
    "#place the correlation coefficients onto the heatmap."
   ]
  },
  {
   "cell_type": "code",
   "execution_count": null,
   "id": "e03e7c53",
   "metadata": {},
   "outputs": [],
   "source": [
    "# Save visual for presentation\n",
    "corr.figure.savefig(os.path.join(path, 'corr_chart.png'))"
   ]
  },
  {
   "cell_type": "markdown",
   "id": "c44877e1",
   "metadata": {},
   "source": [
    "### We can see that most variables correlations are weak at best. The top correlations would be longitude/latitude, trip_duration/gender, birth_year/gender, and birth_year/start_hour. All other correlations are too weak to be considered relevant. For the purpose of this task, I will consider anything above 0.05 a weak relationship to provide me with variables to complete the rest of the task. The relationships are defined below:\n",
    "#### - This correlation would be defined as weak and positive. This simply tells us that the locations occur within a very small portion of the globe: New York City. Longitude and latitude will clearly have a commonality and thus a correlation: they are locations within a city, a small area in the scope of the world and would likely be close to one another.\n",
    "#### - This is a weak, negative correlation. When we define the gender scale of the data (0: undefined, 1: male, 2: female) it tells us an interesting story. From what the heatmap shows us, the longer the trip duration, the more likely the gender of the traveler is male or unknown.\n",
    "#### - This is a weak, positive correlation. Again we use the definition of the numerical values of the gender column to draw analysis. According to the heat map, the younger customers that use this service are more likely to be female.\n",
    "#### - We can hypothesize that the later the trip starts, the younger the customer on the trip is. We see this from the weak positive correlation of the variables. "
   ]
  },
  {
   "cell_type": "markdown",
   "id": "7ec8bd2c",
   "metadata": {},
   "source": [
    "# Question 4\n",
    "## Create a scatterplot (or plots) for the variables with the strongest correlations and examine the nature of their relationships."
   ]
  },
  {
   "cell_type": "code",
   "execution_count": null,
   "id": "6897779a",
   "metadata": {},
   "outputs": [],
   "source": [
    "# Create scatterplot for the longitude/latitude relationship\n",
    "sns.lmplot(x = 'start_station_longitude', y = 'start_station_latitude', data = df_vis)"
   ]
  },
  {
   "cell_type": "markdown",
   "id": "26e3fc43",
   "metadata": {},
   "source": [
    "### While it may not seem like it tells us much, it actually provides us with some quality information. We can see three distinct clusters within the scatterplot, and knowing what longitude and latitude tell us can deduce that there are three distinct locations where the citibikes are most commonly used. This could be useful information for deployment of bikes - particularly when weekday and hour are incorporated - but the linear regression line sadly tells us little."
   ]
  },
  {
   "cell_type": "code",
   "execution_count": null,
   "id": "83bee216",
   "metadata": {},
   "outputs": [],
   "source": [
    "# Create scatterplot for the trip_duration/gender relationship\n",
    "sns.lmplot(x = 'trip_duration', y = 'gender', data = df_vis)"
   ]
  },
  {
   "cell_type": "code",
   "execution_count": null,
   "id": "0988c815",
   "metadata": {},
   "outputs": [],
   "source": [
    "# Create variable for trip duration in minutes to try and clear up visual\n",
    "df_vis['trip_duration_min'] = df_vis['trip_duration']/60"
   ]
  },
  {
   "cell_type": "code",
   "execution_count": null,
   "id": "497b0709",
   "metadata": {},
   "outputs": [],
   "source": [
    "df_vis.head()"
   ]
  },
  {
   "cell_type": "code",
   "execution_count": null,
   "id": "ce7fa592",
   "metadata": {},
   "outputs": [],
   "source": [
    "# Try visualization with new variable\n",
    "sns.lmplot(x = 'gender', y = 'trip_duration_min', data = df_vis)"
   ]
  },
  {
   "cell_type": "markdown",
   "id": "c61720e8",
   "metadata": {},
   "source": [
    "### The scatter plot is less scatter and more tightly compacted points in three distinct rows, but it does tell us that the longer the trip, the more likely the customer gender is undefined or male. However looking at the descriptive statistics of the gender variable we see that more men use the service than both female and undefined combined. So this leads me to assume that the large gender disparity is causing this slant."
   ]
  },
  {
   "cell_type": "markdown",
   "id": "6c07fb73",
   "metadata": {},
   "source": [
    "# Question 5\n",
    "## Create a pair plot of the entire data set."
   ]
  },
  {
   "cell_type": "code",
   "execution_count": null,
   "id": "fdf94f21",
   "metadata": {},
   "outputs": [],
   "source": [
    "# Create pair plot of entire data set\n",
    "g = sns.pairplot(df)"
   ]
  },
  {
   "cell_type": "markdown",
   "id": "fd84bd2b",
   "metadata": {},
   "source": [
    "### This seems rather rediculous, though asked for so I included it. I will create another one with only the subset that is used for the previous heatmap visualization"
   ]
  },
  {
   "cell_type": "code",
   "execution_count": null,
   "id": "b720ab2d",
   "metadata": {},
   "outputs": [],
   "source": [
    "g_vis = sns.pairplot(df_vis)"
   ]
  },
  {
   "cell_type": "markdown",
   "id": "71315acf",
   "metadata": {},
   "source": [
    "### Overall some compelling things to observe here. The gender disparity is good information to go on, and will be immediately useful for the company. One thing we will need to look into are the birth years; I see a lot of plots of those born in the 1900s. I also see that those that put the 1900s year in their profile also are listed as undefined gender, which tells me they simply did not fill out the customer profile. Logic tells me that this is a default number given in the app, but I would need to contact stakeholders to make sure this is accurate. Later on, I would like to look at the trip duration and start hour of the trips in relation to gender and whether they are a subscriber or not, as this could give us valuable insight on the customer base and how to better serve them."
   ]
  },
  {
   "cell_type": "markdown",
   "id": "6901afa7",
   "metadata": {},
   "source": [
    "# Question 6\n",
    "## Create a categorical plot and interpret the results."
   ]
  },
  {
   "cell_type": "markdown",
   "id": "d00900c8",
   "metadata": {},
   "source": [
    "### I will make a categorical plot of the trip duration (in minutes), and interpret the results."
   ]
  },
  {
   "cell_type": "code",
   "execution_count": null,
   "id": "0b971b1b",
   "metadata": {},
   "outputs": [],
   "source": [
    "# Create categorical plot of start_hour\n",
    "g_4 = sns.histplot(df_vis['start_hour'], bins = 24, kde = True)\n",
    "# 16 - 19, 8 high / 7 - 20 normal / else low"
   ]
  },
  {
   "cell_type": "markdown",
   "id": "50be5da5",
   "metadata": {},
   "source": [
    "### From the visualization, we can start to add a flag for busy hours of operation for the service. We can say that 8a as well as 4p - 7p are high volume, 7a - 8a, 9a - 4p, 7p-9p are normal volume, and all other hours are low volume. I am going to create a variable that categorizes these times for future analysis."
   ]
  },
  {
   "cell_type": "code",
   "execution_count": null,
   "id": "4ef0a83f",
   "metadata": {},
   "outputs": [],
   "source": [
    "# Insert new 'customer_volume' variable\n",
    "df.loc[df['start_hour'] > 23, 'customer_volume'] = 'Low Volume'"
   ]
  },
  {
   "cell_type": "code",
   "execution_count": null,
   "id": "2e7a1221",
   "metadata": {},
   "outputs": [],
   "source": [
    "df.loc[df['start_hour'] < 7, 'customer_volume'] = 'Low Volume'"
   ]
  },
  {
   "cell_type": "code",
   "execution_count": null,
   "id": "cf93da6c",
   "metadata": {},
   "outputs": [],
   "source": [
    "df.loc[df['start_hour'] == 7 , 'customer_volume'] = 'Normal Volume'"
   ]
  },
  {
   "cell_type": "code",
   "execution_count": null,
   "id": "c9cdb411",
   "metadata": {},
   "outputs": [],
   "source": [
    "df.loc[(df['start_hour'] >= 9) & (df['start_hour'] < 16), 'customer_volume'] = 'Normal Volume'"
   ]
  },
  {
   "cell_type": "code",
   "execution_count": null,
   "id": "2e47c0a6",
   "metadata": {},
   "outputs": [],
   "source": [
    "df.loc[(df['start_hour'] >= 20) & (df['start_hour'] <= 21), 'customer_volume'] = 'Normal Volume'"
   ]
  },
  {
   "cell_type": "code",
   "execution_count": null,
   "id": "510321d7",
   "metadata": {},
   "outputs": [],
   "source": [
    "df.loc[(df['start_hour'] >= 16) & (df['start_hour'] <= 19), 'customer_volume'] = 'High Volume'"
   ]
  },
  {
   "cell_type": "code",
   "execution_count": null,
   "id": "458008b4",
   "metadata": {},
   "outputs": [],
   "source": [
    "df.loc[df['start_hour'] == 8 , 'customer_volume'] = 'High Volume'"
   ]
  },
  {
   "cell_type": "code",
   "execution_count": null,
   "id": "5bec7951",
   "metadata": {},
   "outputs": [],
   "source": [
    "df['customer_volume'].value_counts(dropna = False)"
   ]
  },
  {
   "cell_type": "code",
   "execution_count": null,
   "id": "0504c90e",
   "metadata": {},
   "outputs": [],
   "source": [
    "# Confirm addition of derived variable\n",
    "df.head()"
   ]
  },
  {
   "cell_type": "code",
   "execution_count": null,
   "id": "c03174d1",
   "metadata": {},
   "outputs": [],
   "source": [
    "# Create categorical plot of trip_duration_min and start_hour, with color categorization of gender\n",
    "sns.set(style=\"ticks\")\n",
    "g_3 = sns.catplot(x=\"start_hour\", y=\"trip_duration_min\", hue=\"gender\", data=df_vis)"
   ]
  },
  {
   "cell_type": "markdown",
   "id": "b31d31b6",
   "metadata": {},
   "source": [
    "### This is an interesting visual. We can see a small glimps into the popular times for the service through the density of the plots. However, what's more interesting is that even though men use the service much more often than women, their trips are on average much shorter. \"Undefined\" gender shows no patterns nor correlations."
   ]
  },
  {
   "cell_type": "markdown",
   "id": "ed9d9482",
   "metadata": {},
   "source": [
    "# Question 7\n",
    "## Revisit the questions you generated in the previous task and write answers to those you can based on the exploration you’ve conducted so far. Add any new questions that may have arisen based on the early findings in your visual exploration."
   ]
  },
  {
   "cell_type": "markdown",
   "id": "5e4bd4db",
   "metadata": {},
   "source": [
    "### Some of the question from the previous task that have been answered:\n",
    "#### \"Are there certain areas within New York that see the most usage of the service?\" Yes, as seen in the correlation plot, we can determine that there are three distinct 'zones' within which the customers start their rides. Further analysis will need to see where they finish and if this zone plot changes, but we can determine almost precisely where the bikes are used most.\n",
    "#### \"What is the age demographic of the most common customers?\" We can see that the most common customers are 70 and younger, with very few older than this.\n",
    "#### \"Is there a correlation between age and how long the trip is?\" No strong correlation can be found; however, we do see that older customers tend to use the service less, especially after the age of 60. This could be useful information.\n",
    "### Some new questions that have arisen:\n",
    "#### - Why do women tend to use bikes for longer amount of times?\n",
    "#### - Do the customer volume ranges change depending on day of the week?\n",
    "#### - There seem to be some pockets within the longitude and latitude charts when correlated with start hour. Why is this?\n"
   ]
  },
  {
   "cell_type": "markdown",
   "id": "b4b2a6b8",
   "metadata": {},
   "source": [
    "# Question 8\n",
    "## Define any hypotheses that you can at this point."
   ]
  },
  {
   "cell_type": "markdown",
   "id": "02bafd76",
   "metadata": {},
   "source": [
    "### There are a couple hypotheses that I can think of from the data provided:\n",
    "### - If you are a subscriber, then your trip lengths will be shorter\n",
    "### - If you are male, you will have shorter trips\n",
    "### - If it is a weekday, you will have shorter trip duration"
   ]
  },
  {
   "cell_type": "code",
   "execution_count": null,
   "id": "80264bce",
   "metadata": {},
   "outputs": [],
   "source": [
    "#Export datasets for future use\n",
    "df.to_csv(os.path.join(path, 'Prepared', 'citibike_clean.csv'))"
   ]
  },
  {
   "cell_type": "code",
   "execution_count": null,
   "id": "e63cf76c",
   "metadata": {},
   "outputs": [],
   "source": []
  }
 ],
 "metadata": {
  "kernelspec": {
   "display_name": "Python 3 (ipykernel)",
   "language": "python",
   "name": "python3"
  },
  "language_info": {
   "codemirror_mode": {
    "name": "ipython",
    "version": 3
   },
   "file_extension": ".py",
   "mimetype": "text/x-python",
   "name": "python",
   "nbconvert_exporter": "python",
   "pygments_lexer": "ipython3",
   "version": "3.9.12"
  }
 },
 "nbformat": 4,
 "nbformat_minor": 5
}
