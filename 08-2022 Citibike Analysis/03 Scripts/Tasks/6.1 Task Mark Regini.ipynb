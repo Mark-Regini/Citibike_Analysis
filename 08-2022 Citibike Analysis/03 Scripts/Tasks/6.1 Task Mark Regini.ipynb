{
 "cells": [
  {
   "cell_type": "markdown",
   "id": "088c0841",
   "metadata": {},
   "source": [
    "# Table of Contents\n",
    "### - Notebook Preparation\n",
    "### - Data Consistency Checks\n",
    "### - Understanding the Data"
   ]
  },
  {
   "cell_type": "markdown",
   "id": "491c93a9",
   "metadata": {},
   "source": [
    "# Set Up Notebook"
   ]
  },
  {
   "cell_type": "code",
   "execution_count": null,
   "id": "0904765c",
   "metadata": {},
   "outputs": [],
   "source": [
    "# Import Libraries\n",
    "import pandas as pd\n",
    "import numpy as np\n",
    "import os"
   ]
  },
  {
   "cell_type": "code",
   "execution_count": null,
   "id": "c9d96c98",
   "metadata": {},
   "outputs": [],
   "source": [
    "# Import Dataset\n",
    "path = r'C:\\Users\\mmreg\\OneDrive\\Desktop\\Data Analytics Course Work\\Data Immersion\\Tasks\\08-2022 Exploratory Analytics Project\\02 Data'"
   ]
  },
  {
   "cell_type": "code",
   "execution_count": null,
   "id": "191ebbad",
   "metadata": {},
   "outputs": [],
   "source": [
    "df = pd.read_csv(os.path.join(path, 'Original', 'citibike_original.csv'), index_col = False)"
   ]
  },
  {
   "cell_type": "code",
   "execution_count": null,
   "id": "7c24acb8",
   "metadata": {},
   "outputs": [],
   "source": [
    "# Ensure complete import\n",
    "df.columns"
   ]
  },
  {
   "cell_type": "code",
   "execution_count": null,
   "id": "4814ef52",
   "metadata": {},
   "outputs": [],
   "source": [
    "df.head()"
   ]
  },
  {
   "cell_type": "markdown",
   "id": "d0a86772",
   "metadata": {},
   "source": [
    "# Data Consistency Checks"
   ]
  },
  {
   "cell_type": "code",
   "execution_count": null,
   "id": "3411ffe6",
   "metadata": {},
   "outputs": [],
   "source": [
    "# Check for mixed-type data\n",
    "for col in df.columns.tolist():\n",
    "  weird = (df[[col]].applymap(type) != df[[col]].iloc[0].apply(type)).any(axis = 1)\n",
    "  if len (df[weird]) > 0:\n",
    "    print (col)"
   ]
  },
  {
   "cell_type": "code",
   "execution_count": null,
   "id": "055cc269",
   "metadata": {},
   "outputs": [],
   "source": [
    "col"
   ]
  },
  {
   "cell_type": "code",
   "execution_count": null,
   "id": "99348810",
   "metadata": {},
   "outputs": [],
   "source": [
    "df['gender'].dtype"
   ]
  },
  {
   "cell_type": "code",
   "execution_count": null,
   "id": "121172ad",
   "metadata": {},
   "outputs": [],
   "source": [
    "# The 'gender' column is a key, representing the genders. This is a string value and will be converted this way.\n",
    "# Change column 'gender' to string\n",
    "df['gender'] = df['gender'].astype('str')"
   ]
  },
  {
   "cell_type": "code",
   "execution_count": null,
   "id": "7277f435",
   "metadata": {},
   "outputs": [],
   "source": [
    "# Find any missing values\n",
    "df.isnull().sum()"
   ]
  },
  {
   "cell_type": "code",
   "execution_count": null,
   "id": "93e05829",
   "metadata": {},
   "outputs": [],
   "source": [
    "# Column 'birth_year' has 6979 records without this information\n",
    "# Determine shape of dataset\n",
    "df.shape"
   ]
  },
  {
   "cell_type": "code",
   "execution_count": null,
   "id": "7715c013",
   "metadata": {},
   "outputs": [],
   "source": [
    "# Missing 'birth_year' records account for 13.96% of the total dataset, and cannot be removed. Keeping in the null items as it will not affect analysis at this time"
   ]
  },
  {
   "cell_type": "code",
   "execution_count": null,
   "id": "d95c4ed1",
   "metadata": {},
   "outputs": [],
   "source": [
    "# Find duplicates\n",
    "df[df.duplicated()]"
   ]
  },
  {
   "cell_type": "code",
   "execution_count": null,
   "id": "37f82031",
   "metadata": {},
   "outputs": [],
   "source": [
    "# No duplicates found within dataset"
   ]
  },
  {
   "cell_type": "code",
   "execution_count": null,
   "id": "7974bd11",
   "metadata": {},
   "outputs": [],
   "source": [
    "# View checked dataset\n",
    "df.head()"
   ]
  },
  {
   "cell_type": "markdown",
   "id": "2dbd8324",
   "metadata": {},
   "source": [
    "# Understanding the Data"
   ]
  },
  {
   "cell_type": "code",
   "execution_count": null,
   "id": "cc2c28ef",
   "metadata": {},
   "outputs": [],
   "source": [
    "# Check dataset size\n",
    "df.shape"
   ]
  },
  {
   "cell_type": "code",
   "execution_count": null,
   "id": "cc75d486",
   "metadata": {},
   "outputs": [],
   "source": [
    "# Gather columns\n",
    "df.columns"
   ]
  },
  {
   "cell_type": "code",
   "execution_count": null,
   "id": "5a6e817f",
   "metadata": {},
   "outputs": [],
   "source": [
    "# Calculate basic descriptive statistics\n",
    "df.describe()"
   ]
  },
  {
   "cell_type": "code",
   "execution_count": null,
   "id": "7ac89ba0",
   "metadata": {},
   "outputs": [],
   "source": [
    "# Determine mode of 'gender' column\n",
    "df['gender'].mode()"
   ]
  },
  {
   "cell_type": "code",
   "execution_count": null,
   "id": "05c35ac9",
   "metadata": {},
   "outputs": [],
   "source": [
    "# Export modified data set\n",
    "df.to_csv(os.path.join(path, \"Prepared\", \"citibike_clean.csv\"))"
   ]
  },
  {
   "cell_type": "code",
   "execution_count": null,
   "id": "49166c55",
   "metadata": {},
   "outputs": [],
   "source": []
  }
 ],
 "metadata": {
  "kernelspec": {
   "display_name": "Python 3 (ipykernel)",
   "language": "python",
   "name": "python3"
  },
  "language_info": {
   "codemirror_mode": {
    "name": "ipython",
    "version": 3
   },
   "file_extension": ".py",
   "mimetype": "text/x-python",
   "name": "python",
   "nbconvert_exporter": "python",
   "pygments_lexer": "ipython3",
   "version": "3.9.12"
  }
 },
 "nbformat": 4,
 "nbformat_minor": 5
}
